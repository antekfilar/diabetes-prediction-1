import pandas as pd
import seaborn as sns
import matplotlib.pyplot as plt
from sklearn.model_selection import cross_val_score
from xgboost import XGBRegressor
from sklearn.ensemble import RandomForestRegressor
from sklearn.linear_model import LogisticRegression
from sklearn.preprocessing import StandardScaler
from statistics import mean, mode

# Importing data
data = pd.read_csv(r"C:\Users\User\Downloads\diabetes.csv")

# Exploring data
print(data.head())
print(data.columns)
print(data.isna().sum())
print(data.nunique())

# Some figures
fig, axes = plt.subplots(3, 2)

sns.histplot(data["Glucose"], ax=axes[0, 0])
axes[0, 0].set_title("Glucose level distribution")
sns.histplot(data["BloodPressure"], ax=axes[0, 1])
axes[0, 1].set_title("Blood pressure distribution")
sns.histplot(data["BMI"], ax=axes[1, 0])
axes[1, 0].set_title("BMI distribution")
sns.histplot(data["Outcome"], ax=axes[1, 1])
axes[1, 1].set_title("Outcome")
sns.histplot(data["DiabetesPedigreeFunction"], ax=axes[2, 0])
axes[2, 0].set_title("DPF distribution")
sns.histplot(data["Insulin"], ax=axes[2, 1])
axes[2, 1].set_title("Insulin distribution")
plt.tight_layout()
plt.show()
